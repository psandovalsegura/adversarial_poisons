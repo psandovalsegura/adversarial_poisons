{
 "cells": [
  {
   "cell_type": "code",
   "execution_count": 1,
   "id": "2681fde3",
   "metadata": {},
   "outputs": [],
   "source": [
    "%matplotlib inline\n",
    "import os\n",
    "import torch\n",
    "import torchvision\n",
    "import torchvision.transforms as transforms\n",
    "import matplotlib.pyplot as plt\n",
    "import numpy as np\n",
    "from poison_evaluation.models import ResNet18\n",
    "from tqdm import tqdm"
   ]
  },
  {
   "cell_type": "code",
   "execution_count": 2,
   "id": "1148b5ad",
   "metadata": {},
   "outputs": [
    {
     "name": "stdout",
     "output_type": "stream",
     "text": [
      "==> Loading standard checkpoint /vulcanscratch/psando/cifar_model_ckpts/poisoned/targeted_250/resnet18.pt\n"
     ]
    }
   ],
   "source": [
    "cifar_path = '/vulcanscratch/psando/cifar-10'\n",
    "cifar_ckpt_dir = '/vulcanscratch/psando/cifar_model_ckpts/poisoned/targeted_250'\n",
    "model_name = 'resnet18'\n",
    "model = ResNet18()\n",
    "\n",
    "pretrained_path = os.path.join(cifar_ckpt_dir, str.lower(model_name) + '.pt')\n",
    "print(f'==> Loading standard checkpoint {pretrained_path}')\n",
    "ckpt = torch.load(pretrained_path)\n",
    "state_dict = ckpt['model']\n",
    "# Standard models were trained using DataParallel, so keys are \n",
    "# in a different format\n",
    "state_dict = {k[len('module.'):]: v for k,v in state_dict.items()}\n",
    "model.load_state_dict(state_dict, strict=True)\n",
    "model = model.cuda()\n",
    "model = model.eval()"
   ]
  },
  {
   "cell_type": "code",
   "execution_count": 3,
   "id": "eab8d8e5",
   "metadata": {},
   "outputs": [],
   "source": [
    "transform_test = transforms.Compose([\n",
    "        transforms.ToTensor(),\n",
    "        transforms.Normalize((0.4914, 0.4822, 0.4465), (0.2023, 0.1994, 0.2010)),\n",
    "    ])\n",
    "\n",
    "testset = torchvision.datasets.CIFAR10(\n",
    "        root=cifar_path, train=False, download=False, transform=transform_test)\n",
    "testloader = torch.utils.data.DataLoader(\n",
    "    testset, batch_size=100, shuffle=False, num_workers=1)"
   ]
  },
  {
   "cell_type": "code",
   "execution_count": 4,
   "id": "730ff290",
   "metadata": {},
   "outputs": [
    {
     "name": "stderr",
     "output_type": "stream",
     "text": [
      "100%|██████████| 100/100 [00:05<00:00, 16.98it/s]"
     ]
    },
    {
     "name": "stdout",
     "output_type": "stream",
     "text": [
      "tensor([[0.2350, 0.3450, 0.0230, 0.0090, 0.0010, 0.0940, 0.2280, 0.0450, 0.0060,\n",
      "         0.0140],\n",
      "        [0.4260, 0.2590, 0.0120, 0.0040, 0.0020, 0.0860, 0.1100, 0.0540, 0.0290,\n",
      "         0.0180],\n",
      "        [0.0320, 0.2340, 0.0490, 0.0390, 0.0130, 0.4790, 0.1400, 0.0120, 0.0000,\n",
      "         0.0020],\n",
      "        [0.0140, 0.0610, 0.1620, 0.0260, 0.0190, 0.5380, 0.1640, 0.0140, 0.0010,\n",
      "         0.0010],\n",
      "        [0.0120, 0.0500, 0.0650, 0.1780, 0.0380, 0.4370, 0.1870, 0.0310, 0.0010,\n",
      "         0.0010],\n",
      "        [0.0030, 0.0430, 0.1020, 0.0210, 0.0370, 0.6540, 0.1350, 0.0040, 0.0010,\n",
      "         0.0000],\n",
      "        [0.0070, 0.0630, 0.0530, 0.0350, 0.0400, 0.5160, 0.2840, 0.0020, 0.0000,\n",
      "         0.0000],\n",
      "        [0.0020, 0.0500, 0.0730, 0.0270, 0.0370, 0.2310, 0.5250, 0.0540, 0.0000,\n",
      "         0.0010],\n",
      "        [0.2010, 0.2000, 0.0030, 0.0050, 0.0000, 0.1270, 0.0690, 0.3810, 0.0090,\n",
      "         0.0050],\n",
      "        [0.0940, 0.1530, 0.0460, 0.0090, 0.0040, 0.1670, 0.2970, 0.1310, 0.0550,\n",
      "         0.0440]])\n"
     ]
    },
    {
     "name": "stderr",
     "output_type": "stream",
     "text": [
      "\n"
     ]
    }
   ],
   "source": [
    "heatmap = torch.zeros((10, 10))\n",
    "\n",
    "for x, y in tqdm(testloader):\n",
    "    x, y = x.cuda(), y.cuda()\n",
    "    out = model(x)\n",
    "    pred = torch.argmax(out, dim=1)\n",
    "    \n",
    "    # for every GT class, log the prediction\n",
    "    for i, y_c in enumerate(y):\n",
    "        pred_y_c = pred[i].item()\n",
    "        heatmap[y_c][pred_y_c] += 1\n",
    "        \n",
    "# normalize\n",
    "for row in range(heatmap.size(0)):\n",
    "    heatmap[row] /= 1000\n",
    "        \n",
    "print(heatmap)\n",
    "heatmap = heatmap.numpy()"
   ]
  },
  {
   "cell_type": "code",
   "execution_count": 5,
   "id": "79f7d53d",
   "metadata": {},
   "outputs": [],
   "source": [
    "classes = ('plane', 'car', 'bird', 'cat', 'deer',\n",
    "            'dog', 'frog', 'horse', 'ship', 'truck')"
   ]
  },
  {
   "cell_type": "code",
   "execution_count": 6,
   "id": "d3dbfbdd",
   "metadata": {},
   "outputs": [
    {
     "data": {
      "image/png": "[encoded data removed]",
      "text/plain": [
       "<Figure size 432x288 with 2 Axes>"
      ]
     },
     "metadata": {
      "needs_background": "light"
     },
     "output_type": "display_data"
    }
   ],
   "source": [
    "ax = plt.gca()\n",
    "im = ax.imshow(heatmap)\n",
    "\n",
    "ax.set_xticks(np.arange(len(classes)))\n",
    "ax.set_yticks(np.arange(len(classes)))\n",
    "ax.set_xticklabels(classes)\n",
    "ax.set_yticklabels(classes)\n",
    "\n",
    "# Rotate the tick labels and set their alignment.\n",
    "plt.setp(ax.get_xticklabels(), rotation=45, ha=\"right\",\n",
    "         rotation_mode=\"anchor\")\n",
    "\n",
    "cbarlabel = 'proportion'\n",
    "cbar = ax.figure.colorbar(im, ax=ax)\n",
    "cbar.ax.set_ylabel(cbarlabel, rotation=90, va=\"bottom\")\n",
    "\n",
    "ax.set_title(\"Classification Heatmap for \\nResNet-18 on Targeted Poison (250-step)\")\n",
    "\n",
    "plt.show()"
   ]
  },
  {
   "cell_type": "code",
   "execution_count": null,
   "id": "551ae932",
   "metadata": {},
   "outputs": [],
   "source": []
  }
 ],
 "metadata": {
  "kernelspec": {
   "display_name": "Python 3",
   "language": "python",
   "name": "python3"
  },
  "language_info": {
   "codemirror_mode": {
    "name": "ipython",
    "version": 3
   },
   "file_extension": ".py",
   "mimetype": "text/x-python",
   "name": "python",
   "nbconvert_exporter": "python",
   "pygments_lexer": "ipython3",
   "version": "3.6.8"
  }
 },
 "nbformat": 4,
 "nbformat_minor": 5
}
