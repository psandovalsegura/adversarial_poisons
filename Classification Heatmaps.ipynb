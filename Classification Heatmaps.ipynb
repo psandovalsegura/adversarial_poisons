{
 "cells": [
  {
   "cell_type": "code",
   "execution_count": 1,
   "id": "2681fde3",
   "metadata": {},
   "outputs": [],
   "source": [
    "%matplotlib inline\n",
    "import os\n",
    "import torch\n",
    "import torchvision\n",
    "import torchvision.transforms as transforms\n",
    "import matplotlib.pyplot as plt\n",
    "import numpy as np\n",
    "from poison_evaluation.models import ResNet18\n",
    "from tqdm import tqdm"
   ]
  },
  {
   "cell_type": "code",
   "execution_count": 2,
   "id": "1148b5ad",
   "metadata": {},
   "outputs": [
    {
     "name": "stdout",
     "output_type": "stream",
     "text": [
      "==> Loading standard checkpoint /vulcanscratch/psando/cifar_model_ckpts/poisoned/targeted_250/resnet18.pt\n"
     ]
    }
   ],
   "source": [
    "cifar_path = '/vulcanscratch/psando/cifar-10'\n",
    "cifar_ckpt_dir = '/vulcanscratch/psando/cifar_model_ckpts/poisoned/targeted_250'\n",
    "model_name = 'resnet18'\n",
    "model = ResNet18()\n",
    "\n",
    "pretrained_path = os.path.join(cifar_ckpt_dir, str.lower(model_name) + '.pt')\n",
    "print(f'==> Loading standard checkpoint {pretrained_path}')\n",
    "ckpt = torch.load(pretrained_path)\n",
    "state_dict = ckpt['model']\n",
    "# Standard models were trained using DataParallel, so keys are \n",
    "# in a different format\n",
    "state_dict = {k[len('module.'):]: v for k,v in state_dict.items()}\n",
    "model.load_state_dict(state_dict, strict=True)\n",
    "model = model.cuda()\n",
    "model = model.eval()"
   ]
  },
  {
   "cell_type": "code",
   "execution_count": 3,
   "id": "eab8d8e5",
   "metadata": {},
   "outputs": [],
   "source": [
    "transform_test = transforms.Compose([\n",
    "        transforms.ToTensor(),\n",
    "        transforms.Normalize((0.4914, 0.4822, 0.4465), (0.2023, 0.1994, 0.2010)),\n",
    "    ])\n",
    "\n",
    "testset = torchvision.datasets.CIFAR10(\n",
    "        root=cifar_path, train=False, download=False, transform=transform_test)\n",
    "testloader = torch.utils.data.DataLoader(\n",
    "    testset, batch_size=100, shuffle=False, num_workers=1)"
   ]
  },
  {
   "cell_type": "code",
   "execution_count": 4,
   "id": "730ff290",
   "metadata": {},
   "outputs": [
    {
     "name": "stderr",
     "output_type": "stream",
     "text": [
      "100%|██████████| 100/100 [00:04<00:00, 21.07it/s]"
     ]
    },
    {
     "name": "stdout",
     "output_type": "stream",
     "text": [
      "tensor([[0.0020, 0.2490, 0.0020, 0.1430, 0.0140, 0.0010, 0.2190, 0.2990, 0.0100,\n",
      "         0.0610],\n",
      "        [0.0960, 0.1560, 0.0070, 0.0790, 0.0150, 0.0020, 0.4150, 0.1780, 0.0260,\n",
      "         0.0260],\n",
      "        [0.0000, 0.4590, 0.0060, 0.1070, 0.0050, 0.0030, 0.1620, 0.2460, 0.0120,\n",
      "         0.0000],\n",
      "        [0.0010, 0.2300, 0.1020, 0.1640, 0.0560, 0.0080, 0.1800, 0.2540, 0.0020,\n",
      "         0.0030],\n",
      "        [0.0000, 0.1860, 0.0120, 0.5450, 0.0030, 0.0050, 0.0930, 0.1520, 0.0020,\n",
      "         0.0020],\n",
      "        [0.0000, 0.2580, 0.0080, 0.1560, 0.1530, 0.0050, 0.2270, 0.1890, 0.0010,\n",
      "         0.0030],\n",
      "        [0.0040, 0.4190, 0.0090, 0.1070, 0.0060, 0.0920, 0.1560, 0.1910, 0.0150,\n",
      "         0.0010],\n",
      "        [0.0000, 0.1010, 0.0010, 0.1230, 0.0080, 0.0010, 0.5440, 0.2190, 0.0030,\n",
      "         0.0000],\n",
      "        [0.0100, 0.1330, 0.0030, 0.1520, 0.0010, 0.0010, 0.1490, 0.5380, 0.0080,\n",
      "         0.0050],\n",
      "        [0.0000, 0.1320, 0.0040, 0.1800, 0.0080, 0.0010, 0.3460, 0.2210, 0.0740,\n",
      "         0.0340]])\n"
     ]
    },
    {
     "name": "stderr",
     "output_type": "stream",
     "text": [
      "\n"
     ]
    }
   ],
   "source": [
    "heatmap = torch.zeros((10, 10))\n",
    "\n",
    "for x, y in tqdm(testloader):\n",
    "    x, y = x.cuda(), y.cuda()\n",
    "    out = model(x)\n",
    "    pred = torch.argmax(out, dim=1)\n",
    "    \n",
    "    # for every GT class, log the prediction\n",
    "    for i, y_c in enumerate(y):\n",
    "        pred_y_c = pred[i].item()\n",
    "        heatmap[y_c][pred_y_c] += 1\n",
    "        \n",
    "# normalize\n",
    "for row in range(heatmap.size(0)):\n",
    "    heatmap[row] /= 1000\n",
    "        \n",
    "print(heatmap)\n",
    "heatmap = heatmap.numpy()"
   ]
  },
  {
   "cell_type": "code",
   "execution_count": 5,
   "id": "79f7d53d",
   "metadata": {},
   "outputs": [],
   "source": [
    "classes = ('plane', 'car', 'bird', 'cat', 'deer',\n",
    "            'dog', 'frog', 'horse', 'ship', 'truck')"
   ]
  },
  {
   "cell_type": "code",
   "execution_count": 6,
   "id": "d3dbfbdd",
   "metadata": {},
   "outputs": [
    {
     "data": {
      "image/png": "[encoded data removed]",
      "text/plain": [
       "<Figure size 432x288 with 2 Axes>"
      ]
     },
     "metadata": {
      "needs_background": "light"
     },
     "output_type": "display_data"
    }
   ],
   "source": [
    "ax = plt.gca()\n",
    "im = ax.imshow(heatmap)\n",
    "\n",
    "ax.set_xticks(np.arange(len(classes)))\n",
    "ax.set_yticks(np.arange(len(classes)))\n",
    "ax.set_xticklabels(classes)\n",
    "ax.set_yticklabels(classes)\n",
    "\n",
    "# Rotate the tick labels and set their alignment.\n",
    "plt.setp(ax.get_xticklabels(), rotation=45, ha=\"right\",\n",
    "         rotation_mode=\"anchor\")\n",
    "\n",
    "cbarlabel = 'proportion'\n",
    "cbar = ax.figure.colorbar(im, ax=ax)\n",
    "cbar.ax.set_ylabel(cbarlabel, rotation=90, va=\"bottom\")\n",
    "\n",
    "ax.set_title(\"Classification Heatmap for \\nResNet-18 on Targeted Poison (250-step)\")\n",
    "\n",
    "plt.show()"
   ]
  },
  {
   "cell_type": "code",
   "execution_count": null,
   "id": "551ae932",
   "metadata": {},
   "outputs": [],
   "source": []
  }
 ],
 "metadata": {
  "kernelspec": {
   "display_name": "Python 3",
   "language": "python",
   "name": "python3"
  },
  "language_info": {
   "codemirror_mode": {
    "name": "ipython",
    "version": 3
   },
   "file_extension": ".py",
   "mimetype": "text/x-python",
   "name": "python",
   "nbconvert_exporter": "python",
   "pygments_lexer": "ipython3",
   "version": "3.6.8"
  }
 },
 "nbformat": 4,
 "nbformat_minor": 5
}
