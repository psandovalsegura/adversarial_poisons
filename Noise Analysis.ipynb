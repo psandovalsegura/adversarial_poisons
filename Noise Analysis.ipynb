{
 "cells": [
  {
   "cell_type": "code",
   "execution_count": 1,
   "id": "ee03c87d",
   "metadata": {},
   "outputs": [],
   "source": [
    "import os\n",
    "import torch\n",
    "import torchvision\n",
    "import torchvision.transforms as transforms\n",
    "from PIL import Image\n",
    "import numpy as np\n",
    "from tqdm import tqdm\n",
    "\n",
    "import matplotlib.pyplot as plt\n",
    "import torchvision.transforms.functional as F\n",
    "from torchvision.utils import make_grid\n",
    "\n",
    "plt.rcParams[\"savefig.bbox\"] = 'tight'\n",
    "\n",
    "def show(imgs):\n",
    "    if not isinstance(imgs, list):\n",
    "        imgs = [imgs]\n",
    "    fix, axs = plt.subplots(ncols=len(imgs), squeeze=False)\n",
    "    for i, img in enumerate(imgs):\n",
    "        img = img.detach()\n",
    "        img = F.to_pil_image(img)\n",
    "        axs[0, i].imshow(np.asarray(img))\n",
    "        axs[0, i].set(xticklabels=[], yticklabels=[], xticks=[], yticks=[])"
   ]
  },
  {
   "cell_type": "code",
   "execution_count": 2,
   "id": "f43f1fed",
   "metadata": {},
   "outputs": [],
   "source": [
    "# Error-maximizing noise (class targeted)\n",
    "pgd_10 = '/vulcanscratch/psando/untrainable_datasets/adv_poisons/targeted'\n",
    "pgd_250 = '/vulcanscratch/psando/untrainable_datasets/adv_poisons/targeted_resnet18_iter=250'\n",
    "\n",
    "fc_pgd_250 = '/vulcanscratch/psando/untrainable_datasets/adv_poisons/fresh_craft/targeted_ResNet18_iter=250'\n",
    "fc_mifgsm_10 = '/vulcanscratch/psando/untrainable_datasets/adv_poisons/fresh_craft/targeted_ResNet18_optim=MIFGSM_iter=10_paugment'\n",
    "\n",
    "poison_paths = [pgd_10, pgd_250, fc_pgd_250, fc_mifgsm_10]"
   ]
  },
  {
   "cell_type": "code",
   "execution_count": 3,
   "id": "ad8fbd67",
   "metadata": {},
   "outputs": [],
   "source": [
    "transform_test = transforms.Compose([\n",
    "        transforms.ToTensor(),\n",
    "        transforms.Normalize((0.4914, 0.4822, 0.4465), (0.2023, 0.1994, 0.2010)),\n",
    "    ])\n",
    "\n",
    "class CIFAR_load(torch.utils.data.Dataset):\n",
    "    def __init__(self, root, baseset):\n",
    "\n",
    "        self.baseset = baseset\n",
    "        self.transform = self.baseset.transform\n",
    "        self.samples = os.listdir(os.path.join(root, 'data'))\n",
    "        self.root = root\n",
    "\n",
    "    def __len__(self):\n",
    "        return len(self.baseset)\n",
    "\n",
    "    def __getitem__(self, idx):\n",
    "        true_index = int(self.samples[idx].split('.')[0])\n",
    "        true_img, label = self.baseset[true_index]\n",
    "        return self.transform(Image.open(os.path.join(self.root, 'data',\n",
    "                                            self.samples[idx]))), label, true_img"
   ]
  },
  {
   "cell_type": "code",
   "execution_count": 4,
   "id": "c2a3a84f",
   "metadata": {},
   "outputs": [],
   "source": [
    "dm = torch.tensor([0.4914, 0.4822, 0.4465])[None, :, None, None]\n",
    "ds = torch.tensor([0.2023, 0.1994, 0.2010])[None, :, None, None]"
   ]
  },
  {
   "cell_type": "code",
   "execution_count": 5,
   "id": "32f16616",
   "metadata": {},
   "outputs": [
    {
     "name": "stdout",
     "output_type": "stream",
     "text": [
      "norm: tensor(0.0314)\n",
      "label: 1\n"
     ]
    },
    {
     "data": {
      "image/png": "[encoded data removed]",
      "text/plain": [
       "<Figure size 432x288 with 1 Axes>"
      ]
     },
     "metadata": {},
     "output_type": "display_data"
    }
   ],
   "source": [
    "# Test first poison path\n",
    "poison_path = poison_paths[0]\n",
    "baseset = torchvision.datasets.CIFAR10(root='/vulcanscratch/psando/cifar-10', train=True, download=False, transform=transform_test)\n",
    "trainset = CIFAR_load(root=poison_path, baseset=baseset)\n",
    "\n",
    "# unnormalize x_adv and x\n",
    "# delta = x_adv - x\n",
    "x_adv = trainset[0][0].unsqueeze(dim=0) * ds + dm\n",
    "x = trainset[0][2].unsqueeze(dim=0) * ds + dm\n",
    "\n",
    "show(make_grid(torch.cat([x_adv, x], dim=0)))\n",
    "\n",
    "delta = x_adv - x\n",
    "\n",
    "print('norm:',torch.norm(delta, p=np.inf))\n",
    "print('label:',trainset[0][1])"
   ]
  },
  {
   "cell_type": "code",
   "execution_count": 6,
   "id": "e1975fd3",
   "metadata": {},
   "outputs": [
    {
     "name": "stderr",
     "output_type": "stream",
     "text": [
      "Loading Deltas: 50000it [04:47, 174.08it/s]\n"
     ]
    }
   ],
   "source": [
    "def get_classwise_deltas(poison_path, num_classes=10):\n",
    "    deltas = {}\n",
    "    for i in range(num_classes):\n",
    "        deltas[i] = []\n",
    "    \n",
    "    # Create poison dataset\n",
    "    baseset = torchvision.datasets.CIFAR10(root='/vulcanscratch/psando/cifar-10', train=True, download=False, transform=transform_test)\n",
    "    trainset = CIFAR_load(root=poison_path, baseset=baseset)\n",
    "    \n",
    "    # Iterate through poison\n",
    "    for idx, batch in tqdm(enumerate(trainset), desc='Loading Deltas'):\n",
    "        im_adv, label, im = batch\n",
    "        \n",
    "        # Unnormalize and compute delta\n",
    "        x_adv = im_adv.unsqueeze(dim=0) * ds + dm\n",
    "        x = im.unsqueeze(dim=0) * ds + dm\n",
    "        delta = x_adv - x\n",
    "                \n",
    "        deltas[label].append(delta)\n",
    "    \n",
    "    # Concatenate lists along dim=0 into a single tensor \n",
    "    for k in deltas.keys():\n",
    "        l = deltas[k]\n",
    "        deltas[k] = torch.cat(l, dim=0)\n",
    "            \n",
    "    return deltas\n",
    "\n",
    "deltas = get_classwise_deltas(poison_paths[0])"
   ]
  },
  {
   "cell_type": "code",
   "execution_count": 21,
   "id": "d451284e",
   "metadata": {},
   "outputs": [],
   "source": [
    "def pc_deltas(deltas):\n",
    "    \"\"\"Computes the principal components of class-wise deltas\n",
    "       Returns covariances\n",
    "    \"\"\"\n",
    "    # Delta tensors of shape (N, 3, 32, 32)\n",
    "    # Reshape to (N, 3*32*32)\n",
    "    for k in deltas.keys():\n",
    "        size = len(deltas[k])\n",
    "        deltas[k] = deltas[k].reshape(size, -1)\n",
    "        assert size == 5000, 'Every CIFAR-10 class has 5000 samples, so there should be 5000 deltas.'\n",
    "    \n",
    "    cov_dict = {}\n",
    "    for k in deltas.keys():\n",
    "        usv = torch.pca_lowrank(deltas[k], q=100, center=True, niter=20)\n",
    "        \n",
    "        S = usv[1]\n",
    "        cov = S ** 2 / (len(deltas[k]) - 1)\n",
    "        #print(f'==> Cov PC targeted deltas ({k} -> {(k+1)%10}): {cov}') \n",
    "        #print(f'sum {torch.sum(cov).item()}')\n",
    "        cov_dict[k] = cov\n",
    "    return cov_dict"
   ]
  },
  {
   "cell_type": "code",
   "execution_count": 64,
   "id": "fef2f6d7",
   "metadata": {},
   "outputs": [],
   "source": [
    "#\n",
    "# Cleanup\n",
    "# \n",
    "\n",
    "# Error-maximizing noise (class targeted)\n",
    "poison_names = [\n",
    "'rotation_ResNet50_optim=PGD_iter=10',\n",
    "'rotation_ResNet50_optim=PGD_iter=100_slurmid=979326',\n",
    "'rotation_ResNet50_optim=PGD_iter=10_slurmid=978428',\n",
    "'rotation_ResNet50_optim=PGD_iter=10_slurmid=979437',\n",
    "'rotation_ResNet50_optim=PGD_iter=200',\n",
    "'rotation_ResNet50_optim=PGD_iter=200_slurmid=978429',\n",
    "'targeted_random_ResNet18_iter=250',\n",
    "'targeted_ResNet18_iter=250',\n",
    "'targeted_ResNet18_optim=MIFGSM_iter=10',\n",
    "'targeted_ResNet18_optim=MIFGSM_iter=10_paugment',\n",
    "'targeted_ResNet18_optim=MIFGSM_iter=20',\n",
    "'targeted_ResNet18_optim=MIFGSM_nesterov_iter=10_paugment',\n",
    "'targeted_ResNet50_iter=50',\n",
    "]\n",
    "poison_dir = '/vulcanscratch/psando/untrainable_datasets/adv_poisons/fresh_craft'\n",
    "poison_paths = [os.path.join(poison_dir, x) for x in poison_names]\n",
    "poison_accs = [71.826, 79.74, 79.97, 72.80, 79.96, 79.72, 76.836, 8.484, 24.63, 14.752, 25.64, 16.246, 10.91]"
   ]
  },
  {
   "cell_type": "code",
   "execution_count": 65,
   "id": "3e486f06",
   "metadata": {},
   "outputs": [
    {
     "name": "stdout",
     "output_type": "stream",
     "text": [
      "Poison: /vulcanscratch/psando/untrainable_datasets/adv_poisons/fresh_craft/rotation_ResNet50_optim=PGD_iter=10\n"
     ]
    },
    {
     "name": "stderr",
     "output_type": "stream",
     "text": [
      "Loading Deltas: 50000it [01:35, 525.32it/s]\n"
     ]
    },
    {
     "name": "stdout",
     "output_type": "stream",
     "text": [
      "Poison: /vulcanscratch/psando/untrainable_datasets/adv_poisons/fresh_craft/rotation_ResNet50_optim=PGD_iter=100_slurmid=979326\n"
     ]
    },
    {
     "name": "stderr",
     "output_type": "stream",
     "text": [
      "Loading Deltas: 50000it [05:56, 140.41it/s]\n"
     ]
    },
    {
     "name": "stdout",
     "output_type": "stream",
     "text": [
      "Poison: /vulcanscratch/psando/untrainable_datasets/adv_poisons/fresh_craft/rotation_ResNet50_optim=PGD_iter=10_slurmid=978428\n"
     ]
    },
    {
     "name": "stderr",
     "output_type": "stream",
     "text": [
      "Loading Deltas: 50000it [02:45, 302.04it/s]\n"
     ]
    },
    {
     "name": "stdout",
     "output_type": "stream",
     "text": [
      "Poison: /vulcanscratch/psando/untrainable_datasets/adv_poisons/fresh_craft/rotation_ResNet50_optim=PGD_iter=10_slurmid=979437\n"
     ]
    },
    {
     "name": "stderr",
     "output_type": "stream",
     "text": [
      "Loading Deltas: 50000it [07:38, 109.12it/s]\n"
     ]
    },
    {
     "name": "stdout",
     "output_type": "stream",
     "text": [
      "Poison: /vulcanscratch/psando/untrainable_datasets/adv_poisons/fresh_craft/rotation_ResNet50_optim=PGD_iter=200\n"
     ]
    },
    {
     "name": "stderr",
     "output_type": "stream",
     "text": [
      "Loading Deltas: 50000it [01:56, 428.44it/s]\n"
     ]
    },
    {
     "name": "stdout",
     "output_type": "stream",
     "text": [
      "Poison: /vulcanscratch/psando/untrainable_datasets/adv_poisons/fresh_craft/rotation_ResNet50_optim=PGD_iter=200_slurmid=978429\n"
     ]
    },
    {
     "name": "stderr",
     "output_type": "stream",
     "text": [
      "Loading Deltas: 50000it [03:49, 217.83it/s]\n"
     ]
    },
    {
     "name": "stdout",
     "output_type": "stream",
     "text": [
      "Poison: /vulcanscratch/psando/untrainable_datasets/adv_poisons/fresh_craft/targeted_random_ResNet18_iter=250\n"
     ]
    },
    {
     "name": "stderr",
     "output_type": "stream",
     "text": [
      "Loading Deltas: 50000it [01:58, 421.41it/s]\n"
     ]
    },
    {
     "name": "stdout",
     "output_type": "stream",
     "text": [
      "Poison: /vulcanscratch/psando/untrainable_datasets/adv_poisons/fresh_craft/targeted_ResNet18_iter=250\n"
     ]
    },
    {
     "name": "stderr",
     "output_type": "stream",
     "text": [
      "Loading Deltas: 50000it [01:56, 428.47it/s]\n"
     ]
    },
    {
     "name": "stdout",
     "output_type": "stream",
     "text": [
      "Poison: /vulcanscratch/psando/untrainable_datasets/adv_poisons/fresh_craft/targeted_ResNet18_optim=MIFGSM_iter=10\n"
     ]
    },
    {
     "name": "stderr",
     "output_type": "stream",
     "text": [
      "Loading Deltas: 50000it [08:38, 96.49it/s] \n"
     ]
    },
    {
     "name": "stdout",
     "output_type": "stream",
     "text": [
      "Poison: /vulcanscratch/psando/untrainable_datasets/adv_poisons/fresh_craft/targeted_ResNet18_optim=MIFGSM_iter=10_paugment\n"
     ]
    },
    {
     "name": "stderr",
     "output_type": "stream",
     "text": [
      "Loading Deltas: 50000it [02:20, 355.16it/s]\n"
     ]
    },
    {
     "name": "stdout",
     "output_type": "stream",
     "text": [
      "Poison: /vulcanscratch/psando/untrainable_datasets/adv_poisons/fresh_craft/targeted_ResNet18_optim=MIFGSM_iter=20\n"
     ]
    },
    {
     "name": "stderr",
     "output_type": "stream",
     "text": [
      "Loading Deltas: 50000it [05:23, 154.54it/s]\n"
     ]
    },
    {
     "name": "stdout",
     "output_type": "stream",
     "text": [
      "Poison: /vulcanscratch/psando/untrainable_datasets/adv_poisons/fresh_craft/targeted_ResNet18_optim=MIFGSM_nesterov_iter=10_paugment\n"
     ]
    },
    {
     "name": "stderr",
     "output_type": "stream",
     "text": [
      "Loading Deltas: 50000it [07:54, 105.36it/s]\n"
     ]
    },
    {
     "name": "stdout",
     "output_type": "stream",
     "text": [
      "Poison: /vulcanscratch/psando/untrainable_datasets/adv_poisons/fresh_craft/targeted_ResNet50_iter=50\n"
     ]
    },
    {
     "name": "stderr",
     "output_type": "stream",
     "text": [
      "Loading Deltas: 50000it [06:01, 138.24it/s]\n"
     ]
    }
   ],
   "source": [
    "# poison_paths = [pgd_10, pgd_250, fc_pgd_250, fc_mifgsm_10]\n",
    "# poison_accs = [74.73, 16.86, 8.48, 14.75]\n",
    "covariances = []\n",
    "for poison_path in poison_paths:\n",
    "    print(f'Poison: {poison_path}')\n",
    "    deltas = get_classwise_deltas(poison_path)\n",
    "    cov_dict = pc_deltas(deltas)\n",
    "    covariances.append(cov_dict)"
   ]
  },
  {
   "cell_type": "code",
   "execution_count": 106,
   "id": "eb70cb6f",
   "metadata": {
    "scrolled": true
   },
   "outputs": [
    {
     "data": {
      "image/png": "[encoded data removed]",
      "text/plain": [
       "<Figure size 1440x648 with 10 Axes>"
      ]
     },
     "metadata": {
      "needs_background": "light"
     },
     "output_type": "display_data"
    }
   ],
   "source": [
    "def plot_scatter(k, poison_accs, covariances):\n",
    "    fig, axs = plt.subplots(2, 5, figsize=(20,9))\n",
    "    fig.subplots_adjust(hspace=0.3)\n",
    "    subplot_idx = [(0,0), (0,1), (0,2), (0,3), (0,4), (1,0), (1,1), (1,2), (1,3), (1,4)]\n",
    "    \n",
    "    for i in range(10):\n",
    "        variance_proportion = []\n",
    "        for cov_dict in covariances:\n",
    "            # normalize\n",
    "            cov = cov_dict[i]\n",
    "            s = torch.sum(cov)\n",
    "            cov = cov / s\n",
    "            proportion_in_top_k = torch.sum(cov[:k]).item()\n",
    "            variance_proportion.append(proportion_in_top_k)\n",
    "        \n",
    "        axs[subplot_idx[i]].scatter(x=variance_proportion, y=poison_accs)\n",
    "        for j, txt in enumerate(range(len(poison_accs))):\n",
    "            axs[subplot_idx[i]].annotate(txt, (variance_proportion[j]-0.001, poison_accs[j]+2.5))\n",
    "        axs[subplot_idx[i]].set_title(f'Targeted Delta (Class {i}->{i+1%10})')\n",
    "        axs[subplot_idx[i]].set_xlabel(f\"Proportion of Variance by First {k} PC\")\n",
    "        axs[subplot_idx[i]].set_ylabel(\"Poison Accuracy\")\n",
    "        axs[subplot_idx[i]].set_ybound(0,100)\n",
    "    \n",
    "plot_scatter(k=50, poison_accs=poison_accs, covariances=covariances)"
   ]
  },
  {
   "cell_type": "code",
   "execution_count": null,
   "id": "e4b63014",
   "metadata": {},
   "outputs": [],
   "source": []
  },
  {
   "cell_type": "code",
   "execution_count": 58,
   "id": "433d7985",
   "metadata": {},
   "outputs": [
    {
     "name": "stdout",
     "output_type": "stream",
     "text": [
      "Poison: /vulcanscratch/psando/untrainable_datasets/adv_poisons/targeted\n",
      "0\n",
      "10000\n",
      "20000\n",
      "30000\n",
      "40000\n",
      "==> Covariance of principal components for class (0 -> 1): tensor([0.0056, 0.0016, 0.0015, 0.0015, 0.0015, 0.0014])\n",
      "==> Covariance of principal components for class (1 -> 2): tensor([0.0059, 0.0016, 0.0015, 0.0015, 0.0015, 0.0015])\n",
      "==> Covariance of principal components for class (2 -> 3): tensor([0.0028, 0.0015, 0.0015, 0.0015, 0.0015, 0.0014])\n",
      "==> Covariance of principal components for class (3 -> 4): tensor([0.0035, 0.0015, 0.0015, 0.0015, 0.0015, 0.0015])\n",
      "==> Covariance of principal components for class (4 -> 5): tensor([0.0019, 0.0015, 0.0015, 0.0015, 0.0014, 0.0014])\n",
      "==> Covariance of principal components for class (5 -> 6): tensor([0.0024, 0.0015, 0.0015, 0.0015, 0.0015, 0.0015])\n",
      "==> Covariance of principal components for class (6 -> 7): tensor([0.0036, 0.0015, 0.0015, 0.0015, 0.0014, 0.0014])\n",
      "==> Covariance of principal components for class (7 -> 8): tensor([0.0034, 0.0015, 0.0015, 0.0015, 0.0015, 0.0015])\n",
      "==> Covariance of principal components for class (8 -> 9): tensor([0.0026, 0.0016, 0.0016, 0.0015, 0.0015, 0.0015])\n",
      "==> Covariance of principal components for class (9 -> 0): tensor([0.0043, 0.0016, 0.0016, 0.0015, 0.0014, 0.0014])\n",
      "Poison: /vulcanscratch/psando/untrainable_datasets/adv_poisons/targeted_resnet18_iter=250\n",
      "0\n",
      "10000\n",
      "20000\n",
      "30000\n",
      "40000\n",
      "==> Covariance of principal components for class (0 -> 1): tensor([0.0125, 0.0078, 0.0076, 0.0076, 0.0073, 0.0057])\n",
      "==> Covariance of principal components for class (1 -> 2): tensor([0.0134, 0.0051, 0.0050, 0.0049, 0.0048, 0.0048])\n",
      "==> Covariance of principal components for class (2 -> 3): tensor([0.0102, 0.0059, 0.0051, 0.0050, 0.0046, 0.0045])\n",
      "==> Covariance of principal components for class (3 -> 4): tensor([0.0087, 0.0050, 0.0049, 0.0048, 0.0048, 0.0047])\n",
      "==> Covariance of principal components for class (4 -> 5): tensor([0.0064, 0.0059, 0.0058, 0.0055, 0.0054, 0.0050])\n",
      "==> Covariance of principal components for class (5 -> 6): tensor([0.0094, 0.0089, 0.0086, 0.0067, 0.0063, 0.0062])\n",
      "==> Covariance of principal components for class (6 -> 7): tensor([0.0086, 0.0056, 0.0054, 0.0053, 0.0052, 0.0050])\n",
      "==> Covariance of principal components for class (7 -> 8): tensor([0.0095, 0.0059, 0.0054, 0.0053, 0.0048, 0.0045])\n",
      "==> Covariance of principal components for class (8 -> 9): tensor([0.0082, 0.0053, 0.0047, 0.0044, 0.0042, 0.0041])\n",
      "==> Covariance of principal components for class (9 -> 0): tensor([0.0124, 0.0053, 0.0052, 0.0051, 0.0050, 0.0049])\n",
      "Poison: /vulcanscratch/psando/untrainable_datasets/adv_poisons/fresh_craft/targeted_ResNet18_iter=250\n",
      "0\n",
      "10000\n",
      "20000\n",
      "30000\n",
      "40000\n",
      "==> Covariance of principal components for class (0 -> 1): tensor([0.0142, 0.0135, 0.0128, 0.0126, 0.0124, 0.0118])\n",
      "==> Covariance of principal components for class (1 -> 2): tensor([0.0131, 0.0072, 0.0070, 0.0068, 0.0067, 0.0066])\n",
      "==> Covariance of principal components for class (2 -> 3): tensor([0.0115, 0.0114, 0.0110, 0.0107, 0.0101, 0.0095])\n",
      "==> Covariance of principal components for class (3 -> 4): tensor([0.0101, 0.0078, 0.0074, 0.0073, 0.0069, 0.0069])\n",
      "==> Covariance of principal components for class (4 -> 5): tensor([0.0100, 0.0098, 0.0093, 0.0092, 0.0079, 0.0078])\n",
      "==> Covariance of principal components for class (5 -> 6): tensor([0.0115, 0.0114, 0.0110, 0.0109, 0.0101, 0.0097])\n",
      "==> Covariance of principal components for class (6 -> 7): tensor([0.0095, 0.0076, 0.0075, 0.0072, 0.0071, 0.0070])\n",
      "==> Covariance of principal components for class (7 -> 8): tensor([0.0179, 0.0172, 0.0166, 0.0163, 0.0121, 0.0113])\n",
      "==> Covariance of principal components for class (8 -> 9): tensor([0.0118, 0.0117, 0.0111, 0.0108, 0.0074, 0.0072])\n",
      "==> Covariance of principal components for class (9 -> 0): tensor([0.0148, 0.0142, 0.0135, 0.0132, 0.0129, 0.0127])\n",
      "Poison: /vulcanscratch/psando/untrainable_datasets/adv_poisons/fresh_craft/targeted_ResNet18_optim=MIFGSM_iter=10_paugment\n",
      "0\n",
      "10000\n",
      "20000\n",
      "30000\n",
      "40000\n",
      "==> Covariance of principal components for class (0 -> 1): tensor([0.0039, 0.0034, 0.0031, 0.0028, 0.0026, 0.0026])\n",
      "==> Covariance of principal components for class (1 -> 2): tensor([0.0036, 0.0027, 0.0027, 0.0026, 0.0026, 0.0025])\n",
      "==> Covariance of principal components for class (2 -> 3): tensor([0.0023, 0.0019, 0.0018, 0.0018, 0.0018, 0.0018])\n",
      "==> Covariance of principal components for class (3 -> 4): tensor([0.0023, 0.0023, 0.0022, 0.0021, 0.0020, 0.0020])\n",
      "==> Covariance of principal components for class (4 -> 5): tensor([0.0024, 0.0021, 0.0021, 0.0020, 0.0019, 0.0018])\n",
      "==> Covariance of principal components for class (5 -> 6): tensor([0.0027, 0.0025, 0.0023, 0.0022, 0.0021, 0.0020])\n",
      "==> Covariance of principal components for class (6 -> 7): tensor([0.0022, 0.0020, 0.0019, 0.0019, 0.0019, 0.0018])\n",
      "==> Covariance of principal components for class (7 -> 8): tensor([0.0023, 0.0022, 0.0021, 0.0020, 0.0020, 0.0020])\n",
      "==> Covariance of principal components for class (8 -> 9): tensor([0.0032, 0.0023, 0.0023, 0.0022, 0.0021, 0.0021])\n",
      "==> Covariance of principal components for class (9 -> 0): tensor([0.0026, 0.0021, 0.0020, 0.0020, 0.0019, 0.0019])\n"
     ]
    }
   ],
   "source": [
    "for poison_path in poison_paths:\n",
    "    print(f'Poison: {poison_path}')\n",
    "    deltas = get_classwise_deltas(poison_path)\n",
    "    pc_deltas(deltas)"
   ]
  }
 ],
 "metadata": {
  "kernelspec": {
   "display_name": "Python 3",
   "language": "python",
   "name": "python3"
  },
  "language_info": {
   "codemirror_mode": {
    "name": "ipython",
    "version": 3
   },
   "file_extension": ".py",
   "mimetype": "text/x-python",
   "name": "python",
   "nbconvert_exporter": "python",
   "pygments_lexer": "ipython3",
   "version": "3.6.8"
  }
 },
 "nbformat": 4,
 "nbformat_minor": 5
}
