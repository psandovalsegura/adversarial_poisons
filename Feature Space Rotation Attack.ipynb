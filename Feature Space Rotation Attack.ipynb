{
 "cells": [
  {
   "cell_type": "code",
   "execution_count": 1,
   "id": "6d611112",
   "metadata": {},
   "outputs": [],
   "source": [
    "%matplotlib inline\n",
    "import os\n",
    "import torch\n",
    "import torchvision\n",
    "import torchvision.transforms as transforms\n",
    "import matplotlib.pyplot as plt\n",
    "import numpy as np\n",
    "from poison_evaluation.models import ResNet18\n",
    "from tqdm import tqdm"
   ]
  },
  {
   "cell_type": "code",
   "execution_count": 2,
   "id": "6a8cb062",
   "metadata": {},
   "outputs": [],
   "source": [
    "# cifar_path = '/vulcanscratch/psando/cifar-10'\n",
    "# transform_test = transforms.Compose([\n",
    "#         transforms.ToTensor(),\n",
    "#         transforms.Normalize((0.4914, 0.4822, 0.4465), (0.2023, 0.1994, 0.2010)),\n",
    "#     ])\n",
    "\n",
    "# testset = torchvision.datasets.CIFAR10(\n",
    "#         root=cifar_path, train=True, download=False, transform=transform_test)\n",
    "# testloader = torch.utils.data.DataLoader(\n",
    "#     testset, batch_size=100, shuffle=False, num_workers=1)"
   ]
  },
  {
   "cell_type": "code",
   "execution_count": 3,
   "id": "6e92718c",
   "metadata": {},
   "outputs": [],
   "source": [
    "# import village \n",
    "# cifar_ckpt_path = '/vulcanscratch/psando/cifar_model_ckpts'\n",
    "# model_name = 'ResNet18'\n",
    "# cifar_ckpt = os.path.join(cifar_ckpt_path, model_name + '.pt')\n",
    "# ckpt = torch.load(cifar_ckpt)\n",
    "\n",
    "# model = village.clients.models.resnet_picker('ResNet18', 'CIFAR10')\n",
    "# model.load_state_dict(ckpt['model'])\n",
    "# model = model.cuda()\n",
    "# model.eval()\n",
    "# pass"
   ]
  },
  {
   "cell_type": "code",
   "execution_count": 4,
   "id": "1536f1d4",
   "metadata": {},
   "outputs": [],
   "source": [
    "# Save representation layer features\n",
    "\n",
    "# features = []\n",
    "# def log_feature(module, input, output):\n",
    "#     batch_size = output.size(0)\n",
    "#     features.append(output.reshape(batch_size, -1))\n",
    "#     return None\n",
    "\n",
    "# handle = model.avgpool.register_forward_hook(log_feature)\n",
    "\n",
    "# with torch.no_grad():\n",
    "#     for x, y in tqdm(testloader):\n",
    "#         x, y = x.cuda(), y.cuda()\n",
    "#         o = model(x)\n",
    "        \n",
    "# handle.remove()\n",
    "\n",
    "# features = torch.cat(features, dim=0) # shape (50000, 512)\n",
    "# print(features.shape)\n",
    "# torch.save(features, 'trainset_features.pt')\n",
    "\n",
    "# Load features\n",
    "features = torch.load('trainset_features.pt') # shape (50000, 512)"
   ]
  },
  {
   "cell_type": "code",
   "execution_count": 5,
   "id": "aa791830",
   "metadata": {},
   "outputs": [],
   "source": [
    "num_principal_dirs = 6\n",
    "pca_iters = 100\n",
    "usv = torch.pca_lowrank(features, q=num_principal_dirs, center=True, niter=pca_iters)"
   ]
  },
  {
   "cell_type": "code",
   "execution_count": 6,
   "id": "d2312734",
   "metadata": {},
   "outputs": [
    {
     "name": "stdout",
     "output_type": "stream",
     "text": [
      "tensor([4.6434, 3.4170, 3.0933, 2.5911, 2.5174, 2.2172], device='cuda:0')\n"
     ]
    }
   ],
   "source": [
    "# Check covariance of num_principal_dirs \n",
    "S = usv[1]\n",
    "cov = S ** 2 / (features.size(0) - 1)\n",
    "print(cov)"
   ]
  },
  {
   "cell_type": "code",
   "execution_count": 7,
   "id": "21f41cd3",
   "metadata": {},
   "outputs": [],
   "source": [
    "# Project onto first two principal components\n",
    "V = usv[2] # shape (512, 6)\n",
    "proj_features = torch.matmul(features, V[:, :2]) # shape (50000, 2)"
   ]
  },
  {
   "cell_type": "code",
   "execution_count": 8,
   "id": "f73152f0",
   "metadata": {},
   "outputs": [],
   "source": [
    "# Rotate every projected feature\n",
    "import math\n",
    "a = math.pi / 4\n",
    "rot = torch.tensor([[math.cos(a), -math.sin(a)], [math.sin(a), math.cos(a)]]).cuda()\n",
    "rot_proj_features = torch.matmul(proj_features, rot) # shape (50000, 2)"
   ]
  },
  {
   "cell_type": "code",
   "execution_count": 9,
   "id": "4db90c83",
   "metadata": {},
   "outputs": [
    {
     "name": "stdout",
     "output_type": "stream",
     "text": [
      "tensor(0.7071, device='cuda:0')\n",
      "0.7071067811865476\n"
     ]
    }
   ],
   "source": [
    "# Sanity check: dot product between normalized vectors should equal cosine of rotation angle\n",
    "u = proj_features[0] / torch.norm(proj_features[0], p=2)\n",
    "v = rot_proj_features[0] / torch.norm(rot_proj_features[0], p=2)\n",
    "print(torch.dot(u, v))\n",
    "print(math.cos(a))"
   ]
  },
  {
   "cell_type": "code",
   "execution_count": 10,
   "id": "1e2ad007",
   "metadata": {},
   "outputs": [],
   "source": [
    "# Unproject back rotated features by adding back non-principal components\n",
    "rot_proj_features = torch.matmul(rot_proj_features, V[:, :2].T) # shape (50000, 512)\n",
    "rot_features = rot_proj_features + (features - torch.matmul(proj_features, V[:, :2].T)) # shape (50000, 512)"
   ]
  },
  {
   "cell_type": "code",
   "execution_count": 11,
   "id": "89f38500",
   "metadata": {},
   "outputs": [
    {
     "name": "stdout",
     "output_type": "stream",
     "text": [
      "tensor(0.9600, device='cuda:0')\n",
      "0.7071067811865476\n"
     ]
    }
   ],
   "source": [
    "# Sanity check: dot product between normalized vectors should equal cosine of rotation angle\n",
    "u = features[0] / torch.norm(features[0], p=2)\n",
    "v = rot_features[0] / torch.norm(rot_features[0], p=2)\n",
    "print(torch.dot(u, v))\n",
    "print(math.cos(a))"
   ]
  },
  {
   "cell_type": "code",
   "execution_count": null,
   "id": "82efff95",
   "metadata": {},
   "outputs": [],
   "source": []
  }
 ],
 "metadata": {
  "kernelspec": {
   "display_name": "Python 3",
   "language": "python",
   "name": "python3"
  },
  "language_info": {
   "codemirror_mode": {
    "name": "ipython",
    "version": 3
   },
   "file_extension": ".py",
   "mimetype": "text/x-python",
   "name": "python",
   "nbconvert_exporter": "python",
   "pygments_lexer": "ipython3",
   "version": "3.6.8"
  }
 },
 "nbformat": 4,
 "nbformat_minor": 5
}
